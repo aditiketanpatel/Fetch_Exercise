{
 "cells": [
  {
   "cell_type": "markdown",
   "id": "7c2aaf6b",
   "metadata": {},
   "source": [
    "## Importing Libraries"
   ]
  },
  {
   "cell_type": "code",
   "execution_count": 1,
   "id": "47d377eb",
   "metadata": {},
   "outputs": [],
   "source": [
    "import pandas as pd\n",
    "import numpy as np\n",
    "import matplotlib\n",
    "import matplotlib.pyplot as plt\n",
    "import plotly.express as px\n",
    "import seaborn as sns\n",
    "from scipy.stats import norm"
   ]
  },
  {
   "cell_type": "markdown",
   "id": "7990faf0",
   "metadata": {},
   "source": [
    "## Loading Transactions Dataset"
   ]
  },
  {
   "cell_type": "code",
   "execution_count": 2,
   "id": "19efa5c9",
   "metadata": {},
   "outputs": [
    {
     "data": {
      "text/html": [
       "<div>\n",
       "<style scoped>\n",
       "    .dataframe tbody tr th:only-of-type {\n",
       "        vertical-align: middle;\n",
       "    }\n",
       "\n",
       "    .dataframe tbody tr th {\n",
       "        vertical-align: top;\n",
       "    }\n",
       "\n",
       "    .dataframe thead th {\n",
       "        text-align: right;\n",
       "    }\n",
       "</style>\n",
       "<table border=\"1\" class=\"dataframe\">\n",
       "  <thead>\n",
       "    <tr style=\"text-align: right;\">\n",
       "      <th></th>\n",
       "      <th>RECEIPT_ID</th>\n",
       "      <th>PURCHASE_DATE</th>\n",
       "      <th>SCAN_DATE</th>\n",
       "      <th>STORE_NAME</th>\n",
       "      <th>USER_ID</th>\n",
       "      <th>BARCODE</th>\n",
       "      <th>FINAL_QUANTITY</th>\n",
       "      <th>FINAL_SALE</th>\n",
       "    </tr>\n",
       "  </thead>\n",
       "  <tbody>\n",
       "    <tr>\n",
       "      <th>0</th>\n",
       "      <td>0000d256-4041-4a3e-adc4-5623fb6e0c99</td>\n",
       "      <td>2024-08-21</td>\n",
       "      <td>2024-08-21 14:19:06.539 Z</td>\n",
       "      <td>WALMART</td>\n",
       "      <td>63b73a7f3d310dceeabd4758</td>\n",
       "      <td>1.530001e+10</td>\n",
       "      <td>1.00</td>\n",
       "      <td></td>\n",
       "    </tr>\n",
       "    <tr>\n",
       "      <th>1</th>\n",
       "      <td>0001455d-7a92-4a7b-a1d2-c747af1c8fd3</td>\n",
       "      <td>2024-07-20</td>\n",
       "      <td>2024-07-20 09:50:24.206 Z</td>\n",
       "      <td>ALDI</td>\n",
       "      <td>62c08877baa38d1a1f6c211a</td>\n",
       "      <td>NaN</td>\n",
       "      <td>zero</td>\n",
       "      <td>1.49</td>\n",
       "    </tr>\n",
       "    <tr>\n",
       "      <th>2</th>\n",
       "      <td>00017e0a-7851-42fb-bfab-0baa96e23586</td>\n",
       "      <td>2024-08-18</td>\n",
       "      <td>2024-08-19 15:38:56.813 Z</td>\n",
       "      <td>WALMART</td>\n",
       "      <td>60842f207ac8b7729e472020</td>\n",
       "      <td>7.874223e+10</td>\n",
       "      <td>1.00</td>\n",
       "      <td></td>\n",
       "    </tr>\n",
       "    <tr>\n",
       "      <th>3</th>\n",
       "      <td>000239aa-3478-453d-801e-66a82e39c8af</td>\n",
       "      <td>2024-06-18</td>\n",
       "      <td>2024-06-19 11:03:37.468 Z</td>\n",
       "      <td>FOOD LION</td>\n",
       "      <td>63fcd7cea4f8442c3386b589</td>\n",
       "      <td>7.833997e+11</td>\n",
       "      <td>zero</td>\n",
       "      <td>3.49</td>\n",
       "    </tr>\n",
       "    <tr>\n",
       "      <th>4</th>\n",
       "      <td>00026b4c-dfe8-49dd-b026-4c2f0fd5c6a1</td>\n",
       "      <td>2024-07-04</td>\n",
       "      <td>2024-07-05 15:56:43.549 Z</td>\n",
       "      <td>RANDALLS</td>\n",
       "      <td>6193231ae9b3d75037b0f928</td>\n",
       "      <td>4.790050e+10</td>\n",
       "      <td>1.00</td>\n",
       "      <td></td>\n",
       "    </tr>\n",
       "    <tr>\n",
       "      <th>...</th>\n",
       "      <td>...</td>\n",
       "      <td>...</td>\n",
       "      <td>...</td>\n",
       "      <td>...</td>\n",
       "      <td>...</td>\n",
       "      <td>...</td>\n",
       "      <td>...</td>\n",
       "      <td>...</td>\n",
       "    </tr>\n",
       "    <tr>\n",
       "      <th>49995</th>\n",
       "      <td>b5cd61a9-8033-4913-a5c4-fb3f65e3a321</td>\n",
       "      <td>2024-08-21</td>\n",
       "      <td>2024-08-31 14:13:08.634 Z</td>\n",
       "      <td>TARGET</td>\n",
       "      <td>6154bcf098f885648de2f299</td>\n",
       "      <td>8.523911e+10</td>\n",
       "      <td>2.00</td>\n",
       "      <td>1.18</td>\n",
       "    </tr>\n",
       "    <tr>\n",
       "      <th>49996</th>\n",
       "      <td>e1b2f634-c9ad-4152-b662-4b22efc25862</td>\n",
       "      <td>2024-08-11</td>\n",
       "      <td>2024-08-11 18:15:56.736 Z</td>\n",
       "      <td>STOP &amp; SHOP</td>\n",
       "      <td>60aa809f188b926b2244c974</td>\n",
       "      <td>4.610040e+10</td>\n",
       "      <td>1.00</td>\n",
       "      <td>2.00</td>\n",
       "    </tr>\n",
       "    <tr>\n",
       "      <th>49997</th>\n",
       "      <td>b07ef8dd-e444-40a2-819b-f74a3e5f1ae7</td>\n",
       "      <td>2024-07-11</td>\n",
       "      <td>2024-07-11 08:03:25.816 Z</td>\n",
       "      <td>WALMART</td>\n",
       "      <td>60bd26e83dc3b13a15c5f4e7</td>\n",
       "      <td>6.466300e+11</td>\n",
       "      <td>1.00</td>\n",
       "      <td>20.96</td>\n",
       "    </tr>\n",
       "    <tr>\n",
       "      <th>49998</th>\n",
       "      <td>42475141-bef4-4df2-aa37-72577e2512bb</td>\n",
       "      <td>2024-06-18</td>\n",
       "      <td>2024-06-18 19:57:32.211 Z</td>\n",
       "      <td>MARKET BASKET</td>\n",
       "      <td>6169912fac47744405af62b7</td>\n",
       "      <td>4.180050e+10</td>\n",
       "      <td>1.00</td>\n",
       "      <td>3.00</td>\n",
       "    </tr>\n",
       "    <tr>\n",
       "      <th>49999</th>\n",
       "      <td>3a179c4e-46f2-4126-b3d2-3514afc23a3e</td>\n",
       "      <td>2024-08-07</td>\n",
       "      <td>2024-08-07 15:30:07.911 Z</td>\n",
       "      <td>WALMART</td>\n",
       "      <td>64e94d64ca929250373ef6e1</td>\n",
       "      <td>3.076607e+11</td>\n",
       "      <td>1.00</td>\n",
       "      <td>5.48</td>\n",
       "    </tr>\n",
       "  </tbody>\n",
       "</table>\n",
       "<p>50000 rows × 8 columns</p>\n",
       "</div>"
      ],
      "text/plain": [
       "                                 RECEIPT_ID PURCHASE_DATE  \\\n",
       "0      0000d256-4041-4a3e-adc4-5623fb6e0c99    2024-08-21   \n",
       "1      0001455d-7a92-4a7b-a1d2-c747af1c8fd3    2024-07-20   \n",
       "2      00017e0a-7851-42fb-bfab-0baa96e23586    2024-08-18   \n",
       "3      000239aa-3478-453d-801e-66a82e39c8af    2024-06-18   \n",
       "4      00026b4c-dfe8-49dd-b026-4c2f0fd5c6a1    2024-07-04   \n",
       "...                                     ...           ...   \n",
       "49995  b5cd61a9-8033-4913-a5c4-fb3f65e3a321    2024-08-21   \n",
       "49996  e1b2f634-c9ad-4152-b662-4b22efc25862    2024-08-11   \n",
       "49997  b07ef8dd-e444-40a2-819b-f74a3e5f1ae7    2024-07-11   \n",
       "49998  42475141-bef4-4df2-aa37-72577e2512bb    2024-06-18   \n",
       "49999  3a179c4e-46f2-4126-b3d2-3514afc23a3e    2024-08-07   \n",
       "\n",
       "                       SCAN_DATE     STORE_NAME                   USER_ID  \\\n",
       "0      2024-08-21 14:19:06.539 Z        WALMART  63b73a7f3d310dceeabd4758   \n",
       "1      2024-07-20 09:50:24.206 Z           ALDI  62c08877baa38d1a1f6c211a   \n",
       "2      2024-08-19 15:38:56.813 Z        WALMART  60842f207ac8b7729e472020   \n",
       "3      2024-06-19 11:03:37.468 Z      FOOD LION  63fcd7cea4f8442c3386b589   \n",
       "4      2024-07-05 15:56:43.549 Z       RANDALLS  6193231ae9b3d75037b0f928   \n",
       "...                          ...            ...                       ...   \n",
       "49995  2024-08-31 14:13:08.634 Z         TARGET  6154bcf098f885648de2f299   \n",
       "49996  2024-08-11 18:15:56.736 Z    STOP & SHOP  60aa809f188b926b2244c974   \n",
       "49997  2024-07-11 08:03:25.816 Z        WALMART  60bd26e83dc3b13a15c5f4e7   \n",
       "49998  2024-06-18 19:57:32.211 Z  MARKET BASKET  6169912fac47744405af62b7   \n",
       "49999  2024-08-07 15:30:07.911 Z        WALMART  64e94d64ca929250373ef6e1   \n",
       "\n",
       "            BARCODE FINAL_QUANTITY FINAL_SALE  \n",
       "0      1.530001e+10           1.00             \n",
       "1               NaN           zero       1.49  \n",
       "2      7.874223e+10           1.00             \n",
       "3      7.833997e+11           zero       3.49  \n",
       "4      4.790050e+10           1.00             \n",
       "...             ...            ...        ...  \n",
       "49995  8.523911e+10           2.00       1.18  \n",
       "49996  4.610040e+10           1.00       2.00  \n",
       "49997  6.466300e+11           1.00      20.96  \n",
       "49998  4.180050e+10           1.00       3.00  \n",
       "49999  3.076607e+11           1.00       5.48  \n",
       "\n",
       "[50000 rows x 8 columns]"
      ]
     },
     "execution_count": 2,
     "metadata": {},
     "output_type": "execute_result"
    }
   ],
   "source": [
    "transaction_df = pd.read_csv('TRANSACTION_TAKEHOME.csv')\n",
    "transaction_df.shape\n",
    "transaction_df"
   ]
  },
  {
   "cell_type": "code",
   "execution_count": 3,
   "id": "1083b9e3",
   "metadata": {},
   "outputs": [
    {
     "name": "stdout",
     "output_type": "stream",
     "text": [
      "<class 'pandas.core.frame.DataFrame'>\n",
      "RangeIndex: 50000 entries, 0 to 49999\n",
      "Data columns (total 8 columns):\n",
      " #   Column          Non-Null Count  Dtype  \n",
      "---  ------          --------------  -----  \n",
      " 0   RECEIPT_ID      50000 non-null  object \n",
      " 1   PURCHASE_DATE   50000 non-null  object \n",
      " 2   SCAN_DATE       50000 non-null  object \n",
      " 3   STORE_NAME      50000 non-null  object \n",
      " 4   USER_ID         50000 non-null  object \n",
      " 5   BARCODE         44238 non-null  float64\n",
      " 6   FINAL_QUANTITY  50000 non-null  object \n",
      " 7   FINAL_SALE      50000 non-null  object \n",
      "dtypes: float64(1), object(7)\n",
      "memory usage: 3.1+ MB\n"
     ]
    }
   ],
   "source": [
    "#Familiarizing with the dataset\n",
    "transaction_df.info()"
   ]
  },
  {
   "cell_type": "markdown",
   "id": "5194464e",
   "metadata": {},
   "source": [
    "As we can see from the above display of dataframe, we have whitespace as values (which is actually a null value) for Final Sale Column. This is a data quality issue. Thus, replacing the whitespace with NaN for further data analysis."
   ]
  },
  {
   "cell_type": "code",
   "execution_count": 4,
   "id": "69935c4d",
   "metadata": {},
   "outputs": [
    {
     "data": {
      "text/plain": [
       "0          NaN\n",
       "1         1.49\n",
       "2          NaN\n",
       "3         3.49\n",
       "4          NaN\n",
       "         ...  \n",
       "49995     1.18\n",
       "49996     2.00\n",
       "49997    20.96\n",
       "49998     3.00\n",
       "49999     5.48\n",
       "Name: FINAL_SALE, Length: 50000, dtype: float64"
      ]
     },
     "execution_count": 4,
     "metadata": {},
     "output_type": "execute_result"
    }
   ],
   "source": [
    "#Converting the 'FINAL_SALE' column to numeric, replacing invalid strings with NaN\n",
    "transaction_df['FINAL_SALE'] = pd.to_numeric(transaction_df['FINAL_SALE'], errors='coerce')\n",
    "transaction_df['FINAL_SALE']"
   ]
  },
  {
   "cell_type": "markdown",
   "id": "13ff8c79",
   "metadata": {},
   "source": [
    "Understanding the Final Quantity Column"
   ]
  },
  {
   "cell_type": "code",
   "execution_count": 5,
   "id": "8baace0f",
   "metadata": {},
   "outputs": [
    {
     "name": "stdout",
     "output_type": "stream",
     "text": [
      "1.00: 35698\n",
      "zero: 12500\n",
      "2.00: 1285\n",
      "3.00: 184\n",
      "4.00: 139\n",
      "6.00: 26\n",
      "5.00: 22\n",
      "8.00: 8\n",
      "12.00: 7\n",
      "7.00: 7\n",
      "10.00: 5\n",
      "1.40: 4\n",
      "0.23: 4\n",
      "1.35: 4\n",
      "1.47: 3\n",
      "0.86: 3\n",
      "1.28: 3\n",
      "9.00: 3\n",
      "0.46: 3\n",
      "2.58: 2\n",
      "2.34: 2\n",
      "4.55: 2\n",
      "0.09: 2\n",
      "1.81: 2\n",
      "2.75: 2\n",
      "1.44: 2\n",
      "2.89: 2\n",
      "0.65: 2\n",
      "2.83: 2\n",
      "2.93: 2\n",
      "1.88: 2\n",
      "276.00: 2\n",
      "1.54: 2\n",
      "2.39: 2\n",
      "18.00: 2\n",
      "1.69: 2\n",
      "0.53: 2\n",
      "0.51: 2\n",
      "2.17: 2\n",
      "1.24: 2\n",
      "0.62: 2\n",
      "16.00: 2\n",
      "2.60: 2\n",
      "0.01: 1\n",
      "0.04: 1\n",
      "1.99: 1\n",
      "2.18: 1\n",
      "3.11: 1\n",
      "1.89: 1\n",
      "5.53: 1\n",
      "1.08: 1\n",
      "1.37: 1\n",
      "2.25: 1\n",
      "0.48: 1\n",
      "3.02: 1\n",
      "0.35: 1\n",
      "0.99: 1\n",
      "1.80: 1\n",
      "0.94: 1\n",
      "2.04: 1\n",
      "3.69: 1\n",
      "0.70: 1\n",
      "2.52: 1\n",
      "3.24: 1\n",
      "2.10: 1\n",
      "2.11: 1\n",
      "1.07: 1\n",
      "0.87: 1\n",
      "3.33: 1\n",
      "2.54: 1\n",
      "2.20: 1\n",
      "1.93: 1\n",
      "1.34: 1\n",
      "1.13: 1\n",
      "2.19: 1\n",
      "0.83: 1\n",
      "2.61: 1\n",
      "0.28: 1\n",
      "1.50: 1\n",
      "0.97: 1\n",
      "0.24: 1\n",
      "1.18: 1\n",
      "6.22: 1\n",
      "1.22: 1\n",
      "1.23: 1\n",
      "2.57: 1\n",
      "2.27: 1\n"
     ]
    }
   ],
   "source": [
    "#Displaying all the Sum Counts for each unique Final Quantity value\n",
    "value_counts = transaction_df['FINAL_QUANTITY'].value_counts()\n",
    "\n",
    "for value, count in value_counts.items():\n",
    "    print(f'{value}: {count}')"
   ]
  },
  {
   "cell_type": "markdown",
   "id": "aadc414f",
   "metadata": {},
   "source": [
    "After assessing the unique values in Final Quantity column, We can see that there are some issues like we need to replace Zero as '0'. Also, We have many values as decimal but assuming that the Quantity should be a whole number, we need to check the rows and clean the data according to that."
   ]
  },
  {
   "cell_type": "code",
   "execution_count": 6,
   "id": "a51badf8",
   "metadata": {},
   "outputs": [
    {
     "data": {
      "text/plain": [
       "0        1.0\n",
       "1        0.0\n",
       "2        1.0\n",
       "3        0.0\n",
       "4        1.0\n",
       "        ... \n",
       "49995    2.0\n",
       "49996    1.0\n",
       "49997    1.0\n",
       "49998    1.0\n",
       "49999    1.0\n",
       "Name: FINAL_QUANTITY, Length: 50000, dtype: float64"
      ]
     },
     "execution_count": 6,
     "metadata": {},
     "output_type": "execute_result"
    }
   ],
   "source": [
    "#Replacing zero with 0 in Final Quantity Column\n",
    "transaction_df['FINAL_QUANTITY'] = transaction_df['FINAL_QUANTITY'].replace('zero',0)\n",
    "\n",
    "#Converting the column Final Quantity from object to float datatype\n",
    "transaction_df['FINAL_QUANTITY'] = pd.to_numeric(transaction_df['FINAL_QUANTITY'])\n",
    "\n",
    "transaction_df['FINAL_QUANTITY']"
   ]
  },
  {
   "cell_type": "code",
   "execution_count": 7,
   "id": "5941e1ab",
   "metadata": {},
   "outputs": [
    {
     "name": "stdout",
     "output_type": "stream",
     "text": [
      "<class 'pandas.core.frame.DataFrame'>\n",
      "Int64Index: 110 entries, 1372 to 49888\n",
      "Data columns (total 8 columns):\n",
      " #   Column          Non-Null Count  Dtype  \n",
      "---  ------          --------------  -----  \n",
      " 0   RECEIPT_ID      110 non-null    object \n",
      " 1   PURCHASE_DATE   110 non-null    object \n",
      " 2   SCAN_DATE       110 non-null    object \n",
      " 3   STORE_NAME      110 non-null    object \n",
      " 4   USER_ID         110 non-null    object \n",
      " 5   BARCODE         76 non-null     float64\n",
      " 6   FINAL_QUANTITY  110 non-null    float64\n",
      " 7   FINAL_SALE      80 non-null     float64\n",
      "dtypes: float64(3), object(5)\n",
      "memory usage: 7.7+ KB\n"
     ]
    }
   ],
   "source": [
    "#Identifying the rows with Final Quantity Value as Decimal\n",
    "decimal_rows = transaction_df[transaction_df['FINAL_QUANTITY'] % 1 != 0]\n",
    "decimal_rows.info()"
   ]
  },
  {
   "cell_type": "markdown",
   "id": "69dd7430",
   "metadata": {},
   "source": [
    "We can see that only 110 Rows out of whole dataset has Final Quantity Value as Decimal. We will need to clean this before further data analysis. For that we can replace the values by rounding off to the next whole number. This would be better than removing the rows."
   ]
  },
  {
   "cell_type": "markdown",
   "id": "5aaea0f4",
   "metadata": {},
   "source": [
    "## Checking for Missing Values"
   ]
  },
  {
   "cell_type": "code",
   "execution_count": 8,
   "id": "92ae046e",
   "metadata": {
    "scrolled": true
   },
   "outputs": [
    {
     "name": "stdout",
     "output_type": "stream",
     "text": [
      "RECEIPT_ID         0.00%\n",
      "PURCHASE_DATE      0.00%\n",
      "SCAN_DATE          0.00%\n",
      "STORE_NAME         0.00%\n",
      "USER_ID            0.00%\n",
      "BARCODE           11.52%\n",
      "FINAL_QUANTITY     0.00%\n",
      "FINAL_SALE        25.00%\n",
      "dtype: object\n"
     ]
    }
   ],
   "source": [
    "#Calculating the percentage of missing values for each column\n",
    "missing_percentage = (transaction_df.isnull().sum() / len(transaction_df)) * 100\n",
    "print(missing_percentage.apply(lambda x: f'{x:.2f}%'))"
   ]
  },
  {
   "cell_type": "markdown",
   "id": "3bcc2048",
   "metadata": {},
   "source": [
    "As we can see above, Final sale has 25% Blanks/Null Values. It can be considered as a huge data quality issue as Final Sale is the most important factors in understanding the User spending behavior."
   ]
  },
  {
   "cell_type": "markdown",
   "id": "6715e90e",
   "metadata": {},
   "source": [
    "## Checking for Redundant Data"
   ]
  },
  {
   "cell_type": "code",
   "execution_count": 9,
   "id": "9de84883",
   "metadata": {
    "scrolled": true
   },
   "outputs": [
    {
     "data": {
      "text/plain": [
       "171"
      ]
     },
     "execution_count": 9,
     "metadata": {},
     "output_type": "execute_result"
    }
   ],
   "source": [
    "transaction_df.duplicated().sum()"
   ]
  },
  {
   "cell_type": "markdown",
   "id": "0a2a996e",
   "metadata": {},
   "source": [
    "We only have 171 duplicated rows in the whole dataset. We can just remove those rows from our dataset before further data analysis."
   ]
  },
  {
   "cell_type": "markdown",
   "id": "b3c95caa",
   "metadata": {},
   "source": [
    "## Studying the Numerical Columns"
   ]
  },
  {
   "cell_type": "code",
   "execution_count": 10,
   "id": "7ba4a0f6",
   "metadata": {
    "scrolled": true
   },
   "outputs": [
    {
     "data": {
      "text/html": [
       "<div>\n",
       "<style scoped>\n",
       "    .dataframe tbody tr th:only-of-type {\n",
       "        vertical-align: middle;\n",
       "    }\n",
       "\n",
       "    .dataframe tbody tr th {\n",
       "        vertical-align: top;\n",
       "    }\n",
       "\n",
       "    .dataframe thead th {\n",
       "        text-align: right;\n",
       "    }\n",
       "</style>\n",
       "<table border=\"1\" class=\"dataframe\">\n",
       "  <thead>\n",
       "    <tr style=\"text-align: right;\">\n",
       "      <th></th>\n",
       "      <th>FINAL_SALE</th>\n",
       "      <th>FINAL_QUANTITY</th>\n",
       "    </tr>\n",
       "  </thead>\n",
       "  <tbody>\n",
       "    <tr>\n",
       "      <th>count</th>\n",
       "      <td>37500.000000</td>\n",
       "      <td>50000.000000</td>\n",
       "    </tr>\n",
       "    <tr>\n",
       "      <th>mean</th>\n",
       "      <td>4.576384</td>\n",
       "      <td>0.814427</td>\n",
       "    </tr>\n",
       "    <tr>\n",
       "      <th>std</th>\n",
       "      <td>6.625663</td>\n",
       "      <td>1.841794</td>\n",
       "    </tr>\n",
       "    <tr>\n",
       "      <th>min</th>\n",
       "      <td>0.000000</td>\n",
       "      <td>0.000000</td>\n",
       "    </tr>\n",
       "    <tr>\n",
       "      <th>25%</th>\n",
       "      <td>1.790000</td>\n",
       "      <td>0.007500</td>\n",
       "    </tr>\n",
       "    <tr>\n",
       "      <th>50%</th>\n",
       "      <td>3.000000</td>\n",
       "      <td>1.000000</td>\n",
       "    </tr>\n",
       "    <tr>\n",
       "      <th>75%</th>\n",
       "      <td>5.190000</td>\n",
       "      <td>1.000000</td>\n",
       "    </tr>\n",
       "    <tr>\n",
       "      <th>max</th>\n",
       "      <td>462.820000</td>\n",
       "      <td>276.000000</td>\n",
       "    </tr>\n",
       "  </tbody>\n",
       "</table>\n",
       "</div>"
      ],
      "text/plain": [
       "         FINAL_SALE  FINAL_QUANTITY\n",
       "count  37500.000000    50000.000000\n",
       "mean       4.576384        0.814427\n",
       "std        6.625663        1.841794\n",
       "min        0.000000        0.000000\n",
       "25%        1.790000        0.007500\n",
       "50%        3.000000        1.000000\n",
       "75%        5.190000        1.000000\n",
       "max      462.820000      276.000000"
      ]
     },
     "execution_count": 10,
     "metadata": {},
     "output_type": "execute_result"
    }
   ],
   "source": [
    "transaction_df[['FINAL_SALE','FINAL_QUANTITY']].describe()"
   ]
  },
  {
   "cell_type": "markdown",
   "id": "c99e064b",
   "metadata": {},
   "source": [
    "The Max values for both columns deviate a lot from 75%. This indicates the presence of high value outliers. Thus plotting Histogram with Normal Distrubution Curve for both the columns below."
   ]
  },
  {
   "cell_type": "code",
   "execution_count": 11,
   "id": "378246ef",
   "metadata": {},
   "outputs": [
    {
     "data": {
      "image/png": "[encoded data removed]",
      "text/plain": [
       "<Figure size 432x288 with 1 Axes>"
      ]
     },
     "metadata": {
      "needs_background": "light"
     },
     "output_type": "display_data"
    }
   ],
   "source": [
    "#Plotting the histogram\n",
    "sns.histplot(transaction_df['FINAL_SALE'], kde=False, stat=\"density\", bins=30, color='blue')\n",
    "\n",
    "#Plotting the normal distribution curve\n",
    "mean_sale = transaction_df['FINAL_SALE'].mean()\n",
    "std_dev_sale = transaction_df['FINAL_SALE'].std()\n",
    "xmin, xmax = plt.xlim()\n",
    "x = np.linspace(xmin, xmax, 100)\n",
    "p = norm.pdf(x, mean_sale, std_dev_sale)\n",
    "plt.plot(x, p, 'k', linewidth=2)\n",
    "plt.title('Histogram with Normal Distribution Curve for FINAL SALE')\n",
    "plt.show()"
   ]
  },
  {
   "cell_type": "code",
   "execution_count": 12,
   "id": "566bd46d",
   "metadata": {
    "scrolled": false
   },
   "outputs": [
    {
     "data": {
      "image/png": "[encoded data removed]",
      "text/plain": [
       "<Figure size 432x288 with 1 Axes>"
      ]
     },
     "metadata": {
      "needs_background": "light"
     },
     "output_type": "display_data"
    }
   ],
   "source": [
    "#Plotting the histogram\n",
    "sns.histplot(transaction_df['FINAL_QUANTITY'], kde=False, stat=\"density\", bins=30, color='blue')\n",
    "\n",
    "#Plotting the normal distribution curve\n",
    "mean_quantity = transaction_df['FINAL_QUANTITY'].mean()\n",
    "std_dev_quantity = transaction_df['FINAL_QUANTITY'].std()\n",
    "xmin, xmax = plt.xlim()\n",
    "x = np.linspace(xmin, xmax, 100)\n",
    "p = norm.pdf(x, mean_quantity, std_dev_quantity)\n",
    "plt.plot(x, p, 'k', linewidth=2)\n",
    "plt.title('Histogram with Normal Distribution Curve for FINAL QUANTITY')\n",
    "plt.show()"
   ]
  },
  {
   "cell_type": "markdown",
   "id": "32890c18",
   "metadata": {},
   "source": [
    "The distribution of Final Sale and Final Quantity data is right-skewed, it means that the tail on the right-hand side is longer than the left-hand side, indicating the presence of some higher-value outliers."
   ]
  },
  {
   "cell_type": "markdown",
   "id": "adde708d",
   "metadata": {},
   "source": [
    "# Final Thoughts:\n",
    "\n",
    "The major data quality issues found in this dataset:\n",
    "\n",
    "1) Assuming the Final Sale column is the Total Spent Amount for that Transaction, 25% of Values are missing for that Column. This can be a major data quality issue as it could result in user not receiving correct amount of reward points (user dissatisfaction) or could segment the user incorretly resulting in failed personalised marketing or misinterpreting the sales volume could affect Fetch's brand partnerships.\n",
    "\n",
    "Minor Data Quality issues found in this dataset:\n",
    "\n",
    "1) Small number of Redundant Data (Duplicate Rows), We can remove them to obtain a consistent dataset.\n",
    "\n",
    "2) Some values in the Final Quantity Column has decimal values. Assuming that the Final Quantity is the no of products bought by User in the receipt scanned for that transaction, it cannot be a decimal number. Instead of removing those rows, we can replace the values by rounding off to the next greatest whole number. Some Values are between 0 and 1 so choosing lower whole number would'nt make sense making the transaction value 0.\n",
    "\n",
    "3) Small percentage of values are missing in Barcode Colums which will have to be dealt with.\n",
    "\n",
    "4) Final Sale and Final Quantity data both have high-value outliers. These anomalies may indicate data entry errors or unusual transactions, which can misinform business decisions, such as revenue forecasts\n"
   ]
  },
  {
   "cell_type": "markdown",
   "id": "1ad782de",
   "metadata": {},
   "source": [
    "## Additional data analysis for insights"
   ]
  },
  {
   "cell_type": "code",
   "execution_count": 13,
   "id": "f3a93678",
   "metadata": {},
   "outputs": [],
   "source": [
    "#Loading Dataset\n",
    "products_df = pd.read_csv('PRODUCTS_TAKEHOME.csv')"
   ]
  },
  {
   "cell_type": "code",
   "execution_count": 14,
   "id": "7ea19acc",
   "metadata": {},
   "outputs": [],
   "source": [
    "#Loading Dataset\n",
    "user_df = pd.read_csv('USER_TAKEHOME.csv')"
   ]
  },
  {
   "cell_type": "markdown",
   "id": "e762d6d3",
   "metadata": {},
   "source": [
    "By analysis of User dataset, we know that Females are feth's major user base. Thus, identifying the products that Female demographics are most insterested in can help Fetch increase their revenue by trageted marketing and promotional offers in collaboration with the brands carrying those products."
   ]
  },
  {
   "cell_type": "code",
   "execution_count": 15,
   "id": "1b877ff6",
   "metadata": {},
   "outputs": [
    {
     "name": "stdout",
     "output_type": "stream",
     "text": [
      "Top 5 Categories and their respective top Subcategories bought by Females:\n",
      "\n",
      "Category: Health & Wellness\n",
      "   - Subcategory: Skin Care | Purchases: 8824\n",
      "   - Subcategory: Medicines & Treatments | Purchases: 8452\n",
      "   - Subcategory: Bath & Body | Purchases: 7444\n",
      "   - Subcategory: Hair Care | Purchases: 6890\n",
      "   - Subcategory: Hair Removal | Purchases: 2464\n",
      "\n",
      "Category: Snacks\n",
      "   - Subcategory: Candy | Purchases: 5854\n",
      "   - Subcategory: Snack Bars | Purchases: 3414\n",
      "   - Subcategory: Chips | Purchases: 3090\n",
      "   - Subcategory: Crackers | Purchases: 2560\n",
      "   - Subcategory: Dips & Salsa | Purchases: 2144\n",
      "\n",
      "Category: Restaurant\n",
      "   - Subcategory: Beverages | Purchases: 726\n",
      "   - Subcategory: À La Carte Item | Purchases: 22\n",
      "\n",
      "Category: Alcohol\n",
      "   - Subcategory: Wine | Purchases: 484\n",
      "   - Subcategory: Beer | Purchases: 90\n",
      "\n",
      "Category: Beverages\n",
      "   - Subcategory: Carbonated Soft Drinks | Purchases: 138\n",
      "   - Subcategory: Water | Purchases: 88\n"
     ]
    }
   ],
   "source": [
    "#Filter for female users\n",
    "female_users = user_df[user_df['GENDER'] == 'female']\n",
    "\n",
    "#Merging user and transaction dataframes\n",
    "female_transactions = pd.merge(female_users, transaction_df, left_on='ID', right_on='USER_ID')\n",
    "\n",
    "#Merging the result with the product dataframe\n",
    "female_transactions_with_product = pd.merge(female_transactions, products_df, on='BARCODE')\n",
    "\n",
    "#Group by CATEGORY_1 to finding the top 5 general categories\n",
    "top_categories = (female_transactions_with_product.groupby('CATEGORY_1').size().nlargest(5).reset_index(name='Total Purchases'))\n",
    "\n",
    "#For each top category, finding the top 5 subcategories (CATEGORY_2)\n",
    "top_subcategories = (female_transactions_with_product[female_transactions_with_product['CATEGORY_1'].isin(top_categories['CATEGORY_1'])]\n",
    "                     .groupby(['CATEGORY_1', 'CATEGORY_2'])\n",
    "                     .size()\n",
    "                     .groupby(level=0, group_keys=False)\n",
    "                     .nlargest(5)\n",
    "                     .reset_index(name='Subcategory Purchases'))\n",
    "\n",
    "# Displaying the result\n",
    "print(\"Top 5 Categories and their respective top Subcategories bought by Females:\")\n",
    "for category in top_categories['CATEGORY_1']:\n",
    "    print(f\"\\nCategory: {category}\")\n",
    "    subcategories = top_subcategories[top_subcategories['CATEGORY_1'] == category]\n",
    "    for index, row in subcategories.iterrows():\n",
    "        print(f\"   - Subcategory: {row['CATEGORY_2']} | Purchases: {row['Subcategory Purchases']}\")"
   ]
  },
  {
   "cell_type": "markdown",
   "id": "fa7ff4d4",
   "metadata": {},
   "source": [
    "This output can help understand the categories that resonates most with Females."
   ]
  },
  {
   "cell_type": "code",
   "execution_count": null,
   "id": "320c798c",
   "metadata": {},
   "outputs": [],
   "source": []
  }
 ],
 "metadata": {
  "kernelspec": {
   "display_name": "Python 3 (ipykernel)",
   "language": "python",
   "name": "python3"
  },
  "language_info": {
   "codemirror_mode": {
    "name": "ipython",
    "version": 3
   },
   "file_extension": ".py",
   "mimetype": "text/x-python",
   "name": "python",
   "nbconvert_exporter": "python",
   "pygments_lexer": "ipython3",
   "version": "3.9.12"
  }
 },
 "nbformat": 4,
 "nbformat_minor": 5
}
