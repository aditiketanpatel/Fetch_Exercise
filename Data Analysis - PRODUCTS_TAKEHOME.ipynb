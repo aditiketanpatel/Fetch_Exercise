{
 "cells": [
  {
   "cell_type": "markdown",
   "id": "27d90480",
   "metadata": {},
   "source": [
    "## Importing Libraries"
   ]
  },
  {
   "cell_type": "code",
   "execution_count": 1,
   "id": "ccbe5364",
   "metadata": {},
   "outputs": [],
   "source": [
    "import pandas as pd\n",
    "import numpy as np\n",
    "import matplotlib\n",
    "import matplotlib.pyplot as plt\n",
    "import plotly.express as px"
   ]
  },
  {
   "cell_type": "markdown",
   "id": "0beee59c",
   "metadata": {},
   "source": [
    "## Loading Products Dataset"
   ]
  },
  {
   "cell_type": "code",
   "execution_count": 2,
   "id": "88f008d5",
   "metadata": {},
   "outputs": [
    {
     "data": {
      "text/html": [
       "<div>\n",
       "<style scoped>\n",
       "    .dataframe tbody tr th:only-of-type {\n",
       "        vertical-align: middle;\n",
       "    }\n",
       "\n",
       "    .dataframe tbody tr th {\n",
       "        vertical-align: top;\n",
       "    }\n",
       "\n",
       "    .dataframe thead th {\n",
       "        text-align: right;\n",
       "    }\n",
       "</style>\n",
       "<table border=\"1\" class=\"dataframe\">\n",
       "  <thead>\n",
       "    <tr style=\"text-align: right;\">\n",
       "      <th></th>\n",
       "      <th>CATEGORY_1</th>\n",
       "      <th>CATEGORY_2</th>\n",
       "      <th>CATEGORY_3</th>\n",
       "      <th>CATEGORY_4</th>\n",
       "      <th>MANUFACTURER</th>\n",
       "      <th>BRAND</th>\n",
       "      <th>BARCODE</th>\n",
       "    </tr>\n",
       "  </thead>\n",
       "  <tbody>\n",
       "    <tr>\n",
       "      <th>0</th>\n",
       "      <td>Health &amp; Wellness</td>\n",
       "      <td>Sexual Health</td>\n",
       "      <td>Conductivity Gels &amp; Lotions</td>\n",
       "      <td>NaN</td>\n",
       "      <td>NaN</td>\n",
       "      <td>NaN</td>\n",
       "      <td>7.964944e+11</td>\n",
       "    </tr>\n",
       "    <tr>\n",
       "      <th>1</th>\n",
       "      <td>Snacks</td>\n",
       "      <td>Puffed Snacks</td>\n",
       "      <td>Cheese Curls &amp; Puffs</td>\n",
       "      <td>NaN</td>\n",
       "      <td>NaN</td>\n",
       "      <td>NaN</td>\n",
       "      <td>2.327801e+10</td>\n",
       "    </tr>\n",
       "    <tr>\n",
       "      <th>2</th>\n",
       "      <td>Health &amp; Wellness</td>\n",
       "      <td>Hair Care</td>\n",
       "      <td>Hair Care Accessories</td>\n",
       "      <td>NaN</td>\n",
       "      <td>PLACEHOLDER MANUFACTURER</td>\n",
       "      <td>ELECSOP</td>\n",
       "      <td>4.618178e+11</td>\n",
       "    </tr>\n",
       "    <tr>\n",
       "      <th>3</th>\n",
       "      <td>Health &amp; Wellness</td>\n",
       "      <td>Oral Care</td>\n",
       "      <td>Toothpaste</td>\n",
       "      <td>NaN</td>\n",
       "      <td>COLGATE-PALMOLIVE</td>\n",
       "      <td>COLGATE</td>\n",
       "      <td>3.500047e+10</td>\n",
       "    </tr>\n",
       "    <tr>\n",
       "      <th>4</th>\n",
       "      <td>Health &amp; Wellness</td>\n",
       "      <td>Medicines &amp; Treatments</td>\n",
       "      <td>Essential Oils</td>\n",
       "      <td>NaN</td>\n",
       "      <td>MAPLE HOLISTICS AND HONEYDEW PRODUCTS INTERCHA...</td>\n",
       "      <td>MAPLE HOLISTICS</td>\n",
       "      <td>8.068109e+11</td>\n",
       "    </tr>\n",
       "    <tr>\n",
       "      <th>...</th>\n",
       "      <td>...</td>\n",
       "      <td>...</td>\n",
       "      <td>...</td>\n",
       "      <td>...</td>\n",
       "      <td>...</td>\n",
       "      <td>...</td>\n",
       "      <td>...</td>\n",
       "    </tr>\n",
       "    <tr>\n",
       "      <th>845547</th>\n",
       "      <td>Health &amp; Wellness</td>\n",
       "      <td>Topical Muscle &amp; Joint Relief Treatments</td>\n",
       "      <td>Braces &amp; Wraps</td>\n",
       "      <td>NaN</td>\n",
       "      <td>NaN</td>\n",
       "      <td>NaN</td>\n",
       "      <td>7.223016e+11</td>\n",
       "    </tr>\n",
       "    <tr>\n",
       "      <th>845548</th>\n",
       "      <td>Snacks</td>\n",
       "      <td>Cookies</td>\n",
       "      <td>NaN</td>\n",
       "      <td>NaN</td>\n",
       "      <td>TREEHOUSE FOODS, INC.</td>\n",
       "      <td>LOFTHOUSE</td>\n",
       "      <td>4.182082e+10</td>\n",
       "    </tr>\n",
       "    <tr>\n",
       "      <th>845549</th>\n",
       "      <td>Snacks</td>\n",
       "      <td>Candy</td>\n",
       "      <td>Confection Candy</td>\n",
       "      <td>NaN</td>\n",
       "      <td>HARIBO GMBH &amp; CO KG</td>\n",
       "      <td>HARIBO</td>\n",
       "      <td>1.001672e+11</td>\n",
       "    </tr>\n",
       "    <tr>\n",
       "      <th>845550</th>\n",
       "      <td>Snacks</td>\n",
       "      <td>Nuts &amp; Seeds</td>\n",
       "      <td>Hazelnuts</td>\n",
       "      <td>NaN</td>\n",
       "      <td>DOUBLE-COLA CO</td>\n",
       "      <td>JUMBO</td>\n",
       "      <td>7.539076e+10</td>\n",
       "    </tr>\n",
       "    <tr>\n",
       "      <th>845551</th>\n",
       "      <td>Health &amp; Wellness</td>\n",
       "      <td>First Aid</td>\n",
       "      <td>First Aid Kits</td>\n",
       "      <td>NaN</td>\n",
       "      <td>3M</td>\n",
       "      <td>NEXCARE</td>\n",
       "      <td>7.967933e+11</td>\n",
       "    </tr>\n",
       "  </tbody>\n",
       "</table>\n",
       "<p>845552 rows × 7 columns</p>\n",
       "</div>"
      ],
      "text/plain": [
       "               CATEGORY_1                                CATEGORY_2  \\\n",
       "0       Health & Wellness                             Sexual Health   \n",
       "1                  Snacks                             Puffed Snacks   \n",
       "2       Health & Wellness                                 Hair Care   \n",
       "3       Health & Wellness                                 Oral Care   \n",
       "4       Health & Wellness                    Medicines & Treatments   \n",
       "...                   ...                                       ...   \n",
       "845547  Health & Wellness  Topical Muscle & Joint Relief Treatments   \n",
       "845548             Snacks                                   Cookies   \n",
       "845549             Snacks                                     Candy   \n",
       "845550             Snacks                              Nuts & Seeds   \n",
       "845551  Health & Wellness                                 First Aid   \n",
       "\n",
       "                         CATEGORY_3 CATEGORY_4  \\\n",
       "0       Conductivity Gels & Lotions        NaN   \n",
       "1              Cheese Curls & Puffs        NaN   \n",
       "2             Hair Care Accessories        NaN   \n",
       "3                        Toothpaste        NaN   \n",
       "4                    Essential Oils        NaN   \n",
       "...                             ...        ...   \n",
       "845547               Braces & Wraps        NaN   \n",
       "845548                          NaN        NaN   \n",
       "845549             Confection Candy        NaN   \n",
       "845550                    Hazelnuts        NaN   \n",
       "845551               First Aid Kits        NaN   \n",
       "\n",
       "                                             MANUFACTURER            BRAND  \\\n",
       "0                                                     NaN              NaN   \n",
       "1                                                     NaN              NaN   \n",
       "2                                PLACEHOLDER MANUFACTURER          ELECSOP   \n",
       "3                                       COLGATE-PALMOLIVE          COLGATE   \n",
       "4       MAPLE HOLISTICS AND HONEYDEW PRODUCTS INTERCHA...  MAPLE HOLISTICS   \n",
       "...                                                   ...              ...   \n",
       "845547                                                NaN              NaN   \n",
       "845548                              TREEHOUSE FOODS, INC.        LOFTHOUSE   \n",
       "845549                                HARIBO GMBH & CO KG           HARIBO   \n",
       "845550                                     DOUBLE-COLA CO            JUMBO   \n",
       "845551                                                 3M          NEXCARE   \n",
       "\n",
       "             BARCODE  \n",
       "0       7.964944e+11  \n",
       "1       2.327801e+10  \n",
       "2       4.618178e+11  \n",
       "3       3.500047e+10  \n",
       "4       8.068109e+11  \n",
       "...              ...  \n",
       "845547  7.223016e+11  \n",
       "845548  4.182082e+10  \n",
       "845549  1.001672e+11  \n",
       "845550  7.539076e+10  \n",
       "845551  7.967933e+11  \n",
       "\n",
       "[845552 rows x 7 columns]"
      ]
     },
     "execution_count": 2,
     "metadata": {},
     "output_type": "execute_result"
    }
   ],
   "source": [
    "products_df = pd.read_csv('PRODUCTS_TAKEHOME.csv')\n",
    "products_df.shape\n",
    "products_df"
   ]
  },
  {
   "cell_type": "code",
   "execution_count": 3,
   "id": "d7e72f84",
   "metadata": {},
   "outputs": [
    {
     "name": "stdout",
     "output_type": "stream",
     "text": [
      "<class 'pandas.core.frame.DataFrame'>\n",
      "RangeIndex: 845552 entries, 0 to 845551\n",
      "Data columns (total 7 columns):\n",
      " #   Column        Non-Null Count   Dtype  \n",
      "---  ------        --------------   -----  \n",
      " 0   CATEGORY_1    845441 non-null  object \n",
      " 1   CATEGORY_2    844128 non-null  object \n",
      " 2   CATEGORY_3    784986 non-null  object \n",
      " 3   CATEGORY_4    67459 non-null   object \n",
      " 4   MANUFACTURER  619078 non-null  object \n",
      " 5   BRAND         619080 non-null  object \n",
      " 6   BARCODE       841527 non-null  float64\n",
      "dtypes: float64(1), object(6)\n",
      "memory usage: 45.2+ MB\n"
     ]
    }
   ],
   "source": [
    "#Familiarizing with Dataset\n",
    "products_df.info()"
   ]
  },
  {
   "cell_type": "markdown",
   "id": "7d91e42b",
   "metadata": {},
   "source": [
    "## Checking the Dataset for the Missing and Duplicated Values."
   ]
  },
  {
   "cell_type": "code",
   "execution_count": 4,
   "id": "da79bab8",
   "metadata": {},
   "outputs": [
    {
     "data": {
      "text/plain": [
       "215"
      ]
     },
     "execution_count": 4,
     "metadata": {},
     "output_type": "execute_result"
    }
   ],
   "source": [
    "products_df.duplicated().sum()"
   ]
  },
  {
   "cell_type": "markdown",
   "id": "9640d73c",
   "metadata": {},
   "source": [
    "We only have 215 duplicated rows in the whole dataset. We can just remove those rows from our dataset before further data analysis"
   ]
  },
  {
   "cell_type": "code",
   "execution_count": 5,
   "id": "22f6945a",
   "metadata": {},
   "outputs": [
    {
     "data": {
      "text/plain": [
       "CATEGORY_1         111\n",
       "CATEGORY_2        1424\n",
       "CATEGORY_3       60566\n",
       "CATEGORY_4      778093\n",
       "MANUFACTURER    226474\n",
       "BRAND           226472\n",
       "BARCODE           4025\n",
       "dtype: int64"
      ]
     },
     "execution_count": 5,
     "metadata": {},
     "output_type": "execute_result"
    }
   ],
   "source": [
    "#Checking for Null Values\n",
    "products_df.isnull().sum()"
   ]
  },
  {
   "cell_type": "code",
   "execution_count": 6,
   "id": "4c65f0f0",
   "metadata": {},
   "outputs": [
    {
     "name": "stdout",
     "output_type": "stream",
     "text": [
      "CATEGORY_1       0.01%\n",
      "CATEGORY_2       0.17%\n",
      "CATEGORY_3       7.16%\n",
      "CATEGORY_4      92.02%\n",
      "MANUFACTURER    26.78%\n",
      "BRAND           26.78%\n",
      "BARCODE          0.48%\n",
      "dtype: object\n"
     ]
    }
   ],
   "source": [
    "#Calculating the percentage of missing values for each column\n",
    "missing_percentage = (products_df.isnull().sum() / len(products_df)) * 100\n",
    "print(missing_percentage.apply(lambda x: f'{x:.2f}%'))"
   ]
  },
  {
   "cell_type": "markdown",
   "id": "0723b558",
   "metadata": {},
   "source": [
    "As we can see, very large percentage of Brand and Manufacturer is missing. It is a huge data quality issue."
   ]
  },
  {
   "cell_type": "markdown",
   "id": "7b2f2284",
   "metadata": {},
   "source": [
    "We can also see that Category_4 has a extremely high percentage of missing values and Category_3 also has a significant amount of records that are missing. Based on the data exploration, it can be understood that there is a hierarchy of categories with Category_1 as the general domain of the product and Category_4 as the most relevant sub category of the product. Assuming that it is not possible to drill down every product to the last subcategory, the missing data will not be considered as a major data quality issue."
   ]
  },
  {
   "cell_type": "markdown",
   "id": "ef8612c9",
   "metadata": {},
   "source": [
    "Identifying the user favorite Brands and Manufacturers"
   ]
  },
  {
   "cell_type": "code",
   "execution_count": 7,
   "id": "70cd50b5",
   "metadata": {},
   "outputs": [
    {
     "name": "stdout",
     "output_type": "stream",
     "text": [
      "\n",
      "Manufacturer: PLACEHOLDER MANUFACTURER\n",
      "BRAND\n",
      "BRAND NOT KNOWN       17025\n",
      "PRIVATE LABEL         13467\n",
      "BRAND NEEDS REVIEW     2904\n",
      "PAUL MITCHELL          2004\n",
      "RUSSELL STOVER         1250\n",
      "\n",
      "Manufacturer: REM MANUFACTURER\n",
      "BRAND\n",
      "REM BRAND    20813\n",
      "\n",
      "Manufacturer: PROCTER & GAMBLE\n",
      "BRAND\n",
      "PANTENE      2124\n",
      "OLAY         1922\n",
      "OLD SPICE    1822\n",
      "CREST        1796\n",
      "ALWAYS       1582\n",
      "\n",
      "Manufacturer: L'OREAL\n",
      "BRAND\n",
      "MATRIX                      2958\n",
      "REDKEN                      2579\n",
      "L'OREAL PARIS HAIR COLOR    1949\n",
      "L'OREAL PARIS HAIR CARE     1519\n",
      "GARNIER HAIR CARE           1480\n",
      "\n",
      "Manufacturer: UNILEVER\n",
      "BRAND\n",
      "DOVE             3834\n",
      "SHEA MOISTURE    2505\n",
      "AXE              1889\n",
      "TRESEMMÉ         1655\n",
      "VASELINE         1280\n"
     ]
    }
   ],
   "source": [
    "top_manufacturers = products_df.groupby('MANUFACTURER')['BARCODE'].count().nlargest(5)\n",
    "for manufacturer in top_manufacturers.index:\n",
    "    top_brands = products_df[products_df['MANUFACTURER'] == manufacturer].groupby('BRAND')['BARCODE'].count().nlargest(5)\n",
    "    print(f\"\\nManufacturer: {manufacturer}\")\n",
    "    print(top_brands.to_string())"
   ]
  },
  {
   "cell_type": "markdown",
   "id": "e3197d5b",
   "metadata": {},
   "source": [
    "Based on studying the results above, we can see that one of the top-selling manufacturers and brands has placeholder values, indicating incomplete or incorrect data. This is a major data quality issue, as it can skew business insights, lead to inaccurate reporting on top products, and hinder targeted marketing efforts and partnerships with legitimate brands."
   ]
  },
  {
   "cell_type": "markdown",
   "id": "348a7c35",
   "metadata": {},
   "source": [
    "# Final Thoughts:\n",
    "\n",
    "The major data quality issues found in this dataset:\n",
    "\n",
    "1) 26% of Values are missing for the Brand and Manufacturer columns. This is a major data quality issue as these are the important identifiers of any product. Without these it would be difficult for Fetch to personalise user experience by recommendations and it will also hinder in fetch's loyalty partnerships with brands (To decide what type of reward points to set in which product of which brands). Additionally, based on the above exploration, one of the top-selling manufacturers and brands has placeholder values, further highlighting the severity of this issue. This can lead to inaccurate business insights, misreporting of top products, and hindered partnerships with legitimate brands. Addressing this is crucial for accurate analysis and optimal customer engagement.\n",
    "\n",
    "Minor Data Quality issues found in this dataset:\n",
    "\n",
    "1) The product categories follow a hierarchical structure, with Category_1 representing the broad domain of the product and Category_4 being the most specific subcategory. A significant number of values are missing in Category_4, likely because it's difficult to classify certain products at such a detailed level. While missing values in Category_3 pose a minor data quality issue, the lower percentage of missing data suggests that most products are generally well-categorized, though a few may lack proper classification.\n",
    "\n",
    "2) Small number of Redundant Data (Duplicate Rows), We can remove them to obtain a consistent dataset.\n",
    "\n",
    "3) Small percentage of values are missing in Barcode Colums which will have to be dealt with."
   ]
  },
  {
   "cell_type": "code",
   "execution_count": null,
   "id": "904936db",
   "metadata": {},
   "outputs": [],
   "source": []
  }
 ],
 "metadata": {
  "kernelspec": {
   "display_name": "Python 3 (ipykernel)",
   "language": "python",
   "name": "python3"
  },
  "language_info": {
   "codemirror_mode": {
    "name": "ipython",
    "version": 3
   },
   "file_extension": ".py",
   "mimetype": "text/x-python",
   "name": "python",
   "nbconvert_exporter": "python",
   "pygments_lexer": "ipython3",
   "version": "3.9.12"
  }
 },
 "nbformat": 4,
 "nbformat_minor": 5
}
